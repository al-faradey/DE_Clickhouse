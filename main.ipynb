{
 "cells": [
  {
   "cell_type": "code",
   "execution_count": 4,
   "metadata": {},
   "outputs": [],
   "source": [
    "import clickhouse_driver\n",
    "from clickhouse_driver import Client\n",
    "\n",
    "from pynput import mouse\n",
    "\n",
    "import pyautogui\n",
    "import datetime\n",
    "from datetime import datetime\n",
    "\n",
    "import pandas as pd\n"
   ]
  },
  {
   "cell_type": "code",
   "execution_count": 2,
   "metadata": {},
   "outputs": [],
   "source": [
    "\n",
    "# connecting to server\n",
    "connection = clickhouse_driver.connect(\n",
    "host='localhost',\n",
    "port=9000,\n",
    "user='default',\n",
    "database='mouse_movements')"
   ]
  },
  {
   "cell_type": "code",
   "execution_count": 6,
   "metadata": {},
   "outputs": [],
   "source": [
    "#creating database\n",
    "cursor = connection.cursor()\n",
    "create_database_query = 'CREATE DATABASE IF NOT EXISTS mouse_movements'\n",
    "cursor.execute(create_database_query)"
   ]
  },
  {
   "cell_type": "code",
   "execution_count": 7,
   "metadata": {},
   "outputs": [],
   "source": [
    "#creating table for staging\n",
    "create_table_query = '''\n",
    "CREATE TABLE movements (\n",
    "x UInt16,\n",
    "y UInt16,\n",
    "delta_x UInt16,\n",
    "delta_y UInt16,\n",
    "client_time_stamp Float32,\n",
    "button Int8,\n",
    "target String\n",
    ")ENGINE=MergeTree() ORDER BY client_time_stamp\n",
    "'''\n",
    "cursor.execute(create_table_query)"
   ]
  },
  {
   "cell_type": "code",
   "execution_count": 8,
   "metadata": {},
   "outputs": [],
   "source": [
    "#creating table for buffering\n",
    "create_table_query = '''\n",
    "CREATE TABLE movements_buffer AS movements \n",
    "ENGINE = Buffer(mouse_movements, movements, \n",
    "16, 10, 100, 10000, 1000000, 10000000, 100000000)\n",
    "'''\n",
    "cursor.execute(create_table_query)"
   ]
  },
  {
   "cell_type": "code",
   "execution_count": null,
   "metadata": {},
   "outputs": [],
   "source": [
    "#mouse catch-click function\n",
    "client_df = Client('localhost', settings={'use_numpy':True})\n",
    "\n",
    "prev_x = 0\n",
    "prev_y = 0\n",
    "cols = ['x', 'y', 'delta_x', 'delta_y', 'client_time_stamp', 'buttons', 'target']\n",
    "clicks = pd.DataFrame(columns=cols)\n",
    "\n",
    "with mouse.Events() as events:\n",
    "    for event in events:\n",
    "        if type(event) == mouse.Events.Click:\n",
    "            dat = [event.x, event.y, abs(event.x-prev_x), abs(event.y-prev_y), \\\n",
    "                   datetime.now().timestamp(), event.button.value[0],\n",
    "                   pyautogui.getActiveWindowTitle()]\n",
    "            clicks.iloc[-1] = dat\n",
    "            client_df.insert_dataframe(f'INSERT INTO mouse_movements.movements_buffer VALUES', clicks)"
   ]
  },
  {
   "cell_type": "markdown",
   "metadata": {},
   "source": []
  },
  {
   "cell_type": "markdown",
   "metadata": {},
   "source": []
  }
 ],
 "metadata": {
  "kernelspec": {
   "display_name": "Python 3",
   "language": "python",
   "name": "python3"
  },
  "language_info": {
   "codemirror_mode": {
    "name": "ipython",
    "version": 3
   },
   "file_extension": ".py",
   "mimetype": "text/x-python",
   "name": "python",
   "nbconvert_exporter": "python",
   "pygments_lexer": "ipython3",
   "version": "3.9.13"
  },
  "orig_nbformat": 4,
  "vscode": {
   "interpreter": {
    "hash": "eaa0b46ff7a126897c9a9f30fdb049747489f83801c6e3a3e0e68229f5927b3c"
   }
  }
 },
 "nbformat": 4,
 "nbformat_minor": 2
}
