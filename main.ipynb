{
 "cells": [
  {
   "cell_type": "code",
   "execution_count": 23,
   "metadata": {},
   "outputs": [],
   "source": [
    "import clickhouse_driver\n",
    "from clickhouse_driver import Client\n",
    "\n",
    "from pynput import mouse\n",
    "\n",
    "import pyautogui\n",
    "import datetime\n",
    "from datetime import datetime\n",
    "\n",
    "import pandas as pd\n",
    "import pandahouse as ph\n"
   ]
  },
  {
   "cell_type": "code",
   "execution_count": 16,
   "metadata": {},
   "outputs": [],
   "source": [
    "# connecting to server\n",
    "connection = clickhouse_driver.connect(\n",
    "host='localhost',\n",
    "port=9000,\n",
    "user='default',\n",
    "database='mouse_movements')"
   ]
  },
  {
   "cell_type": "code",
   "execution_count": 17,
   "metadata": {},
   "outputs": [],
   "source": [
    "#creating database\n",
    "cursor = connection.cursor()\n",
    "create_database_query = 'CREATE DATABASE IF NOT EXISTS mouse_movements'\n",
    "cursor.execute(create_database_query)"
   ]
  },
  {
   "cell_type": "code",
   "execution_count": null,
   "metadata": {},
   "outputs": [],
   "source": [
    "#creating table for staging\n",
    "create_table_query = '''\n",
    "CREATE TABLE movements (\n",
    "x UInt16,\n",
    "y UInt16,\n",
    "delta_x UInt16,\n",
    "delta_y UInt16,\n",
    "client_time_stamp Float32,\n",
    "button Int8,\n",
    "target String\n",
    ")ENGINE=MergeTree() ORDER BY client_time_stamp\n",
    "'''\n",
    "cursor.execute(create_table_query)"
   ]
  },
  {
   "cell_type": "code",
   "execution_count": null,
   "metadata": {},
   "outputs": [],
   "source": [
    "#creating table for buffering\n",
    "create_table_query = '''\n",
    "CREATE TABLE movements_buffer AS movements \n",
    "ENGINE = Buffer(mouse_movements, movements, \n",
    "16, 10, 100, 10000, 1000000, 10000000, 100000000)\n",
    "'''\n",
    "cursor.execute(create_table_query)"
   ]
  },
  {
   "cell_type": "code",
   "execution_count": null,
   "metadata": {},
   "outputs": [],
   "source": [
    "#mouse catch-click function\n",
    "client_df = Client('localhost', settings={'use_numpy':True})\n",
    "\n",
    "prev_x = 0\n",
    "prev_y = 0\n",
    "cols = ['x', 'y', 'delta_x', 'delta_y', 'client_time_stamp', 'button', 'target']\n",
    "clicks = pd.DataFrame(columns=cols)\n",
    "\n",
    "with mouse.Events() as events:\n",
    "    for event in events:\n",
    "        if type(event) == mouse.Events.Click:\n",
    "            dat = [event.x, event.y, abs(event.x-prev_x), abs(event.y-prev_y), \\\n",
    "                   datetime.now().timestamp(), event.button.value[0],\n",
    "                   pyautogui.getActiveWindowTitle()]\n",
    "            clicks.loc[-1] = dat\n",
    "            #display(clicks)\n",
    "            client_df.insert_dataframe(f'INSERT INTO mouse_movements.movements_buffer VALUES', clicks)\n",
    "            prev_x = event.x\n",
    "            prev_y = event.y"
   ]
  },
  {
   "cell_type": "code",
   "execution_count": null,
   "metadata": {},
   "outputs": [],
   "source": [
    "connection = {'host': 'http://localhost:8123',\n",
    "              'database': 'mouse_movements',\n",
    "              'user': 'default',\n",
    "              'password': ''}"
   ]
  },
  {
   "cell_type": "code",
   "execution_count": null,
   "metadata": {},
   "outputs": [],
   "source": [
    "# count all mouse moves\n",
    "query_all_movements = 'SELECT COUNT(*) FROM mouse_movements.movements \\\n",
    "                                WHERE delta_x <> 0 OR delta_y <> 0'\n",
    "df = ph.read_clickhouse(query_all_movements, connection=connection)\n",
    "display(df)\n",
    "print('Количество движений:', df.iloc[0,0])"
   ]
  },
  {
   "cell_type": "code",
   "execution_count": null,
   "metadata": {},
   "outputs": [],
   "source": [
    "# count all movements x>1000 and y>1000 group by target\n",
    "query_xy_over1k = 'SELECT COUNT(*) AS moves_over_1k_px \\\n",
    "                    FROM mouse_movements.movements \\\n",
    "                        WHERE x>1000 \\\n",
    "                        GROUP BY target'\n",
    "df = ph.read_clickhouse(query_xy_over1k, connection=connection)"
   ]
  },
  {
   "cell_type": "code",
   "execution_count": null,
   "metadata": {},
   "outputs": [],
   "source": [
    "#find biggest moves\n",
    "query_top_moves = 'SELECT TOP(10) plus(delta_x, delta_y) AS top_moves \\\n",
    "                    FROM mouse_movements.movements \\\n",
    "                    ORDER BY top_moves DESC'\n",
    "df = ph.read_clickhouse(query_top_moves, connection=connection)\n",
    "\n",
    "display(df)"
   ]
  }
 ],
 "metadata": {
  "kernelspec": {
   "display_name": "Python 3",
   "language": "python",
   "name": "python3"
  },
  "language_info": {
   "codemirror_mode": {
    "name": "ipython",
    "version": 3
   },
   "file_extension": ".py",
   "mimetype": "text/x-python",
   "name": "python",
   "nbconvert_exporter": "python",
   "pygments_lexer": "ipython3",
   "version": "3.9.13"
  },
  "orig_nbformat": 4,
  "vscode": {
   "interpreter": {
    "hash": "eaa0b46ff7a126897c9a9f30fdb049747489f83801c6e3a3e0e68229f5927b3c"
   }
  }
 },
 "nbformat": 4,
 "nbformat_minor": 2
}
